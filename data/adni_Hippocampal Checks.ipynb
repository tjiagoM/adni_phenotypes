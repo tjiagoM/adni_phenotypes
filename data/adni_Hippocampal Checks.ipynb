{
 "cells": [
  {
   "cell_type": "code",
   "execution_count": 1,
   "metadata": {},
   "outputs": [],
   "source": [
    "import pandas as pd\n",
    "import numpy as np\n",
    "import statsmodels.api as smf\n",
    "import matplotlib.pyplot as plt\n",
    "\n",
    "import sklearn.metrics as metrics\n",
    "from sklearn.preprocessing import LabelEncoder\n",
    "from sklearn.model_selection import StratifiedKFold, train_test_split\n",
    "\n",
    "demo_cols = ['diagnosis', 'age', 'gender', 'eTIV']\n",
    "\n",
    "features_cort = ['thickness_bankssts_lh', 'thickness_caudalanteriorcingulate_lh', 'thickness_caudalmiddlefrontal_lh',  'thickness_cuneus_lh',  'thickness_entorhinal_lh',  'thickness_fusiform_lh',  'thickness_inferiorparietal_lh',  'thickness_inferiortemporal_lh',  'thickness_isthmuscingulate_lh',  'thickness_lateraloccipital_lh',  'thickness_lateralorbitofrontal_lh',  'thickness_lingual_lh',  'thickness_medialorbitofrontal_lh',  'thickness_middletemporal_lh',  'thickness_parahippocampal_lh',  'thickness_paracentral_lh',  'thickness_parsopercularis_lh',  'thickness_parsorbitalis_lh',  'thickness_parstriangularis_lh',  'thickness_pericalcarine_lh',  'thickness_postcentral_lh',  'thickness_posteriorcingulate_lh',  'thickness_precentral_lh',  'thickness_precuneus_lh',  'thickness_rostralanteriorcingulate_lh', 'thickness_rostralmiddlefrontal_lh',  'thickness_superiorfrontal_lh',  'thickness_superiorparietal_lh',  'thickness_superiortemporal_lh',  'thickness_supramarginal_lh',  'thickness_frontalpole_lh',  'thickness_temporalpole_lh',  'thickness_transversetemporal_lh',  'thickness_insula_lh',  'thickness_bankssts_rh',  'thickness_caudalanteriorcingulate_rh', 'thickness_caudalmiddlefrontal_rh',  'thickness_cuneus_rh',  'thickness_entorhinal_rh',  'thickness_fusiform_rh',  'thickness_inferiorparietal_rh',  'thickness_inferiortemporal_rh',  'thickness_isthmuscingulate_rh',  'thickness_lateraloccipital_rh',  'thickness_lateralorbitofrontal_rh',  'thickness_lingual_rh',  'thickness_medialorbitofrontal_rh',  'thickness_middletemporal_rh',  'thickness_parahippocampal_rh',  'thickness_paracentral_rh',  'thickness_parsopercularis_rh',  'thickness_parsorbitalis_rh',  'thickness_parstriangularis_rh',  'thickness_pericalcarine_rh',  'thickness_postcentral_rh',  'thickness_posteriorcingulate_rh',  'thickness_precentral_rh',  'thickness_precuneus_rh',  'thickness_rostralanteriorcingulate_rh', 'thickness_rostralmiddlefrontal_rh',  'thickness_superiorfrontal_rh',  'thickness_superiorparietal_rh',  'thickness_superiortemporal_rh',  'thickness_supramarginal_rh',  'thickness_frontalpole_rh',  'thickness_temporalpole_rh',  'thickness_transversetemporal_rh',  'thickness_insula_rh']\n",
    "\n",
    "features_vol = ['volume_bankssts_lh', 'volume_caudalanteriorcingulate_lh', 'volume_caudalmiddlefrontal_lh', 'volume_cuneus_lh', 'volume_entorhinal_lh', 'volume_fusiform_lh', 'volume_inferiorparietal_lh', 'volume_inferiortemporal_lh', 'volume_isthmuscingulate_lh', 'volume_lateraloccipital_lh', 'volume_lateralorbitofrontal_lh', 'volume_lingual_lh', 'volume_medialorbitofrontal_lh', 'volume_middletemporal_lh', 'volume_parahippocampal_lh', 'volume_paracentral_lh', 'volume_parsopercularis_lh', 'volume_parsorbitalis_lh', 'volume_parstriangularis_lh', 'volume_pericalcarine_lh', 'volume_postcentral_lh', 'volume_posteriorcingulate_lh', 'volume_precentral_lh', 'volume_precuneus_lh', 'volume_rostralanteriorcingulate_lh', 'volume_rostralmiddlefrontal_lh', 'volume_superiorfrontal_lh', 'volume_superiorparietal_lh', 'volume_superiortemporal_lh', 'volume_supramarginal_lh', 'volume_frontalpole_lh', 'volume_temporalpole_lh', 'volume_transversetemporal_lh', 'volume_insula_lh', 'volume_bankssts_rh', 'volume_caudalanteriorcingulate_rh', 'volume_caudalmiddlefrontal_rh', 'volume_cuneus_rh', 'volume_entorhinal_rh', 'volume_fusiform_rh', 'volume_inferiorparietal_rh', 'volume_inferiortemporal_rh', 'volume_isthmuscingulate_rh', 'volume_lateraloccipital_rh', 'volume_lateralorbitofrontal_rh', 'volume_lingual_rh', 'volume_medialorbitofrontal_rh', 'volume_middletemporal_rh', 'volume_parahippocampal_rh', 'volume_paracentral_rh', 'volume_parsopercularis_rh', 'volume_parsorbitalis_rh', 'volume_parstriangularis_rh', 'volume_pericalcarine_rh', 'volume_postcentral_rh', 'volume_posteriorcingulate_rh', 'volume_precentral_rh', 'volume_precuneus_rh', 'volume_rostralanteriorcingulate_rh', 'volume_rostralmiddlefrontal_rh', 'volume_superiorfrontal_rh', 'volume_superiorparietal_rh', 'volume_superiortemporal_rh', 'volume_supramarginal_rh', 'volume_frontalpole_rh', 'volume_temporalpole_rh', 'volume_transversetemporal_rh', 'volume_insula_rh']\n",
    "\n",
    "features_vol_extra = ['volume_Left-Cerebellum-White-Matter', 'volume_Left-Cerebellum-Cortex',\n",
    "                      'volume_Left-Thalamus-Proper', 'volume_Left-Caudate', 'volume_Left-Putamen',\n",
    "                      'volume_Left-Pallidum','volume_Brain-Stem', 'volume_Left-Hippocampus', \n",
    "                      'volume_Left-Amygdala', 'volume_Left-Accumbens-area', 'volume_Right-Cerebellum-White-Matter',\n",
    "                      'volume_Right-Cerebellum-Cortex', 'volume_Right-Thalamus-Proper', 'volume_Right-Caudate',\n",
    "                      'volume_Right-Putamen', 'volume_Right-Pallidum', 'volume_Right-Hippocampus', \n",
    "                      'volume_Right-Amygdala', 'volume_Right-Accumbens-area']"
   ]
  },
  {
   "cell_type": "code",
   "execution_count": 2,
   "metadata": {},
   "outputs": [
    {
     "name": "stdout",
     "output_type": "stream",
     "text": [
      "Before: (736, 185)\n",
      "After (736, 159)\n"
     ]
    }
   ],
   "source": [
    "df_adni = pd.read_csv('raw_collated_freesurfer.csv', sep='\\t', index_col=0)\n",
    "print('Before:', df_adni.shape)\n",
    "\n",
    "# Removing unnecessary volume columns like ventricles, hypointensities, CC_, and others\n",
    "df_adni = df_adni.loc[:, demo_cols + features_cort + features_vol + features_vol_extra]\n",
    "\n",
    "print('After', df_adni.shape)"
   ]
  },
  {
   "cell_type": "code",
   "execution_count": 3,
   "metadata": {},
   "outputs": [
    {
     "name": "stdout",
     "output_type": "stream",
     "text": [
      "662 74\n"
     ]
    },
    {
     "name": "stderr",
     "output_type": "stream",
     "text": [
      "/local/scratch/tmla2/miniconda/envs/adni_env/lib/python3.8/site-packages/sklearn/model_selection/_split.py:670: UserWarning: The least populated class in y has only 1 members, which is less than n_splits=10.\n",
      "  warnings.warn((\"The least populated class in y has only %d\"\n"
     ]
    },
    {
     "data": {
      "text/plain": [
       "(array([ 0,  1,  2,  3,  4,  5,  6,  7,  8,  9, 10, 11, 12, 13, 14, 15, 16,\n",
       "        17, 18, 19, 20, 21, 22, 23, 24, 25, 26, 27, 28, 29, 30, 31, 32, 33,\n",
       "        34, 35, 36, 37, 38, 39, 40, 41, 42, 43, 44, 45, 46, 47, 48, 49, 50,\n",
       "        51, 52, 53, 54, 55, 56, 57, 58, 59, 60, 61, 62, 63, 64, 65, 66, 67,\n",
       "        68, 69, 70, 71, 72, 73, 74, 75, 76, 77, 78, 79, 80, 81, 82, 83, 84,\n",
       "        85, 86, 87, 88, 89, 90, 91, 92, 93]),\n",
       " array([15, 12,  7,  3,  1,  4,  6,  9, 21, 15,  4,  8,  3,  1,  2,  5,  3,\n",
       "        11,  7,  5,  7,  4,  1,  3,  4,  5,  6, 11, 11, 10,  4,  4,  1,  5,\n",
       "         6, 11, 14, 14,  7,  5,  2,  4,  8, 11, 17, 14, 15, 14,  8,  3,  2,\n",
       "         4,  2,  3, 11,  9, 16, 14, 12,  6,  2,  2,  7, 15, 16,  7, 14, 12,\n",
       "        12,  6,  3,  2,  2,  7, 17, 16, 15, 17,  7,  2,  1,  3, 10, 11, 16,\n",
       "         7,  9,  4,  2,  3,  6,  5, 13, 15]))"
      ]
     },
     "execution_count": 3,
     "metadata": {},
     "output_type": "execute_result"
    }
   ],
   "source": [
    "# Getting all the demographic values to stratitfy dataset according to them\n",
    "confounds = {'diagnosis' : [], 'age' : [], 'gender' : [], 'eTIV' : []}\n",
    "             \n",
    "for i in range(df_adni.shape[0]):\n",
    "    for confound in confounds.keys():\n",
    "        confounds[confound].append(df_adni.at[df_adni.index[i], confound])\n",
    "        \n",
    "# Making age and eTIV bucketised each in 5 blocks\n",
    "confounds['age'] = pd.qcut(confounds['age'], 5, labels=False)\n",
    "confounds['eTIV'] = pd.qcut(confounds['eTIV'], 5, labels=False)\n",
    "\n",
    "# Joining all the demographic values in str-format labels, and then use LabelEncoder() to change to int-format labels\n",
    "joined_labels = [f'{confounds[\"diagnosis\"][i]}{confounds[\"age\"][i]}{confounds[\"gender\"][i]}{confounds[\"eTIV\"][i]}' for i in range(df_adni.shape[0])]\n",
    "\n",
    "strat_labels = LabelEncoder().fit_transform(joined_labels)\n",
    "\n",
    "# ~10% test set\n",
    "skf = StratifiedKFold(n_splits=10, shuffle=True, random_state=1111)\n",
    "skf_generator = skf.split(np.zeros((df_adni.shape[0], 1)), strat_labels)\n",
    "\n",
    "for train_index, test_index in skf_generator:\n",
    "    print(len(train_index), len(test_index))\n",
    "    break\n",
    "    \n",
    "np.unique(strat_labels, return_counts=True)"
   ]
  },
  {
   "cell_type": "code",
   "execution_count": 4,
   "metadata": {},
   "outputs": [],
   "source": [
    "# Slicing the original raw df\n",
    "df_train = df_adni.iloc[train_index, :].copy()\n",
    "df_test = df_adni.iloc[test_index, :].copy()"
   ]
  },
  {
   "cell_type": "code",
   "execution_count": 5,
   "metadata": {},
   "outputs": [],
   "source": [
    "df_train.loc[df_train.diagnosis == 'Control', 'diagnosis'] = 0\n",
    "df_train.loc[df_train.diagnosis == 'AD', 'diagnosis'] = 1\n",
    "\n",
    "df_train['diagnosis'] = pd.to_numeric(df_train['diagnosis']) # Needed for smf.OLS"
   ]
  },
  {
   "cell_type": "code",
   "execution_count": 8,
   "metadata": {},
   "outputs": [],
   "source": [
    "mod = smf.OLS.from_formula(formula= f'diagnosis ~ Q(\"volume_Left-Hippocampus\") + Q(\"volume_Right-Hippocampus\") + age + eTIV + C(gender)', data=df_train)\n",
    "model = mod.fit()"
   ]
  },
  {
   "cell_type": "code",
   "execution_count": 9,
   "metadata": {},
   "outputs": [],
   "source": [
    "df_test.loc[df_test.diagnosis == 'Control', 'diagnosis'] = 0\n",
    "df_test.loc[df_test.diagnosis == 'AD', 'diagnosis'] = 1\n",
    "\n",
    "df_test['diagnosis'] = pd.to_numeric(df_test['diagnosis']) # Needed for smf.OLS"
   ]
  },
  {
   "cell_type": "code",
   "execution_count": 10,
   "metadata": {},
   "outputs": [
    {
     "data": {
      "text/plain": [
       "subj\n",
       "sub-002-S-1018    0.395685\n",
       "sub-002-S-4213    0.092212\n",
       "sub-003-S-0981    0.252306\n",
       "sub-003-S-1059    0.946821\n",
       "sub-003-S-4373    0.624795\n",
       "                    ...   \n",
       "sub-130-S-4641    0.450423\n",
       "sub-130-S-4971    0.628485\n",
       "sub-130-S-4990    0.572929\n",
       "sub-131-S-0441    0.369527\n",
       "sub-133-S-1055    0.584801\n",
       "Length: 74, dtype: float64"
      ]
     },
     "execution_count": 10,
     "metadata": {},
     "output_type": "execute_result"
    }
   ],
   "source": [
    "model.predict(df_test)"
   ]
  },
  {
   "cell_type": "code",
   "execution_count": 11,
   "metadata": {},
   "outputs": [
    {
     "data": {
      "text/plain": [
       "subj\n",
       "sub-002-S-1018    1\n",
       "sub-002-S-4213    0\n",
       "sub-003-S-0981    0\n",
       "sub-003-S-1059    1\n",
       "sub-003-S-4373    1\n",
       "                 ..\n",
       "sub-130-S-4641    1\n",
       "sub-130-S-4971    1\n",
       "sub-130-S-4990    1\n",
       "sub-131-S-0441    0\n",
       "sub-133-S-1055    1\n",
       "Name: diagnosis, Length: 74, dtype: int64"
      ]
     },
     "execution_count": 11,
     "metadata": {},
     "output_type": "execute_result"
    }
   ],
   "source": [
    "df_test['diagnosis']"
   ]
  },
  {
   "cell_type": "code",
   "execution_count": 12,
   "metadata": {},
   "outputs": [
    {
     "data": {
      "text/html": [
       "<div>\n",
       "<style scoped>\n",
       "    .dataframe tbody tr th:only-of-type {\n",
       "        vertical-align: middle;\n",
       "    }\n",
       "\n",
       "    .dataframe tbody tr th {\n",
       "        vertical-align: top;\n",
       "    }\n",
       "\n",
       "    .dataframe thead th {\n",
       "        text-align: right;\n",
       "    }\n",
       "</style>\n",
       "<table border=\"1\" class=\"dataframe\">\n",
       "  <thead>\n",
       "    <tr style=\"text-align: right;\">\n",
       "      <th></th>\n",
       "      <th>0</th>\n",
       "      <th>diagnosis</th>\n",
       "    </tr>\n",
       "    <tr>\n",
       "      <th>subj</th>\n",
       "      <th></th>\n",
       "      <th></th>\n",
       "    </tr>\n",
       "  </thead>\n",
       "  <tbody>\n",
       "    <tr>\n",
       "      <th>sub-002-S-1018</th>\n",
       "      <td>0.395685</td>\n",
       "      <td>1</td>\n",
       "    </tr>\n",
       "    <tr>\n",
       "      <th>sub-002-S-4213</th>\n",
       "      <td>0.092212</td>\n",
       "      <td>0</td>\n",
       "    </tr>\n",
       "    <tr>\n",
       "      <th>sub-003-S-0981</th>\n",
       "      <td>0.252306</td>\n",
       "      <td>0</td>\n",
       "    </tr>\n",
       "    <tr>\n",
       "      <th>sub-003-S-1059</th>\n",
       "      <td>0.946821</td>\n",
       "      <td>1</td>\n",
       "    </tr>\n",
       "    <tr>\n",
       "      <th>sub-003-S-4373</th>\n",
       "      <td>0.624795</td>\n",
       "      <td>1</td>\n",
       "    </tr>\n",
       "    <tr>\n",
       "      <th>...</th>\n",
       "      <td>...</td>\n",
       "      <td>...</td>\n",
       "    </tr>\n",
       "    <tr>\n",
       "      <th>sub-130-S-4641</th>\n",
       "      <td>0.450423</td>\n",
       "      <td>1</td>\n",
       "    </tr>\n",
       "    <tr>\n",
       "      <th>sub-130-S-4971</th>\n",
       "      <td>0.628485</td>\n",
       "      <td>1</td>\n",
       "    </tr>\n",
       "    <tr>\n",
       "      <th>sub-130-S-4990</th>\n",
       "      <td>0.572929</td>\n",
       "      <td>1</td>\n",
       "    </tr>\n",
       "    <tr>\n",
       "      <th>sub-131-S-0441</th>\n",
       "      <td>0.369527</td>\n",
       "      <td>0</td>\n",
       "    </tr>\n",
       "    <tr>\n",
       "      <th>sub-133-S-1055</th>\n",
       "      <td>0.584801</td>\n",
       "      <td>1</td>\n",
       "    </tr>\n",
       "  </tbody>\n",
       "</table>\n",
       "<p>74 rows × 2 columns</p>\n",
       "</div>"
      ],
      "text/plain": [
       "                       0  diagnosis\n",
       "subj                               \n",
       "sub-002-S-1018  0.395685          1\n",
       "sub-002-S-4213  0.092212          0\n",
       "sub-003-S-0981  0.252306          0\n",
       "sub-003-S-1059  0.946821          1\n",
       "sub-003-S-4373  0.624795          1\n",
       "...                  ...        ...\n",
       "sub-130-S-4641  0.450423          1\n",
       "sub-130-S-4971  0.628485          1\n",
       "sub-130-S-4990  0.572929          1\n",
       "sub-131-S-0441  0.369527          0\n",
       "sub-133-S-1055  0.584801          1\n",
       "\n",
       "[74 rows x 2 columns]"
      ]
     },
     "execution_count": 12,
     "metadata": {},
     "output_type": "execute_result"
    }
   ],
   "source": [
    "merged_df = pd.concat([model.predict(df_test), df_test['diagnosis']], axis=1)\n",
    "merged_df"
   ]
  },
  {
   "cell_type": "code",
   "execution_count": 13,
   "metadata": {},
   "outputs": [
    {
     "data": {
      "text/plain": [
       "array([0., 0., 0., 1., 1., 0., 0., 0., 1., 0., 1., 0., 1., 1., 0., 0., 0.,\n",
       "       1., 0., 0., 1., 0., 1., 1., 0., 0., 0., 1., 1., 1., 0., 0., 0., 0.,\n",
       "       1., 0., 1., 1., 1., 0., 1., 1., 1., 0., 1., 0., 1., 0., 1., 0., 1.,\n",
       "       1., 1., 0., 0., 1., 1., 0., 0., 0., 0., 0., 0., 0., 0., 0., 0., 0.,\n",
       "       0., 0., 1., 1., 0., 1.])"
      ]
     },
     "execution_count": 13,
     "metadata": {},
     "output_type": "execute_result"
    }
   ],
   "source": [
    "bin_out = merged_df[0].copy().values\n",
    "bin_out[bin_out < 0.5] = 0\n",
    "bin_out[bin_out >= 0.5] = 1\n",
    "bin_out"
   ]
  },
  {
   "cell_type": "code",
   "execution_count": 14,
   "metadata": {},
   "outputs": [],
   "source": [
    "tn, fp, fn, tp = metrics.confusion_matrix(merged_df['diagnosis'].values, bin_out).ravel()\n",
    "specificity = tn / (tn + fp)\n",
    "sensitivity = tp / (tp + fn)\n",
    "ppv = tp / (tp + fp)\n",
    "npv = tn / (tn + fn)"
   ]
  },
  {
   "cell_type": "code",
   "execution_count": 15,
   "metadata": {},
   "outputs": [
    {
     "data": {
      "text/plain": [
       "(0.8181818181818182,\n",
       " 0.7666666666666667,\n",
       " 0.7419354838709677,\n",
       " 0.8372093023255814)"
      ]
     },
     "execution_count": 15,
     "metadata": {},
     "output_type": "execute_result"
    }
   ],
   "source": [
    "specificity, sensitivity, ppv, npv"
   ]
  },
  {
   "cell_type": "code",
   "execution_count": 16,
   "metadata": {},
   "outputs": [
    {
     "data": {
      "text/plain": [
       "0.7972972972972973"
      ]
     },
     "execution_count": 16,
     "metadata": {},
     "output_type": "execute_result"
    }
   ],
   "source": [
    "metrics.accuracy_score(merged_df['diagnosis'].values, bin_out)"
   ]
  },
  {
   "cell_type": "code",
   "execution_count": 17,
   "metadata": {},
   "outputs": [
    {
     "data": {
      "text/plain": [
       "0.8507575757575758"
      ]
     },
     "execution_count": 17,
     "metadata": {},
     "output_type": "execute_result"
    }
   ],
   "source": [
    "metrics.roc_auc_score(merged_df['diagnosis'].values, merged_df[0].values)"
   ]
  }
 ],
 "metadata": {
  "kernelspec": {
   "display_name": "Python 3",
   "language": "python",
   "name": "python3"
  },
  "language_info": {
   "codemirror_mode": {
    "name": "ipython",
    "version": 3
   },
   "file_extension": ".py",
   "mimetype": "text/x-python",
   "name": "python",
   "nbconvert_exporter": "python",
   "pygments_lexer": "ipython3",
   "version": "3.8.5"
  }
 },
 "nbformat": 4,
 "nbformat_minor": 4
}
